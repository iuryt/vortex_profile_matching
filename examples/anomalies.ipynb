{
 "cells": [
  {
   "cell_type": "markdown",
   "id": "3bca6f61-c462-4e49-81c8-650478e53e92",
   "metadata": {},
   "source": [
    "# Tutorial: Using the Vortex-Profile Matching Dataset\n",
    "\n",
    "## Overview\n",
    "\n",
    "This dataset integrates the **World Ocean Database (WOD)** with the **Mesoscale Eddy Trajectory Atlas (META3.2 DT)**, offering a comprehensive resource to study ocean mesoscale dynamics. It includes over millions of vertical ocean profiles matched with altimetry-tracked eddies data. This tutorial gives an example of access to the dataset through OPeNDAP server.\n"
   ]
  },
  {
   "cell_type": "markdown",
   "id": "fd19dec4-7d5b-4d4d-9eed-0518b7a265f1",
   "metadata": {},
   "source": [
    "## We start by importing the necessary packages"
   ]
  },
  {
   "cell_type": "code",
   "execution_count": 33,
   "id": "f899c691-3706-4028-b75c-bb2d202f8261",
   "metadata": {},
   "outputs": [],
   "source": [
    "import numpy as np\n",
    "import xarray as xr\n",
    "import matplotlib.pyplot as plt\n",
    "import matplotlib\n",
    "from matplotlib.lines import Line2D\n",
    "import gsw\n",
    "from tqdm import tqdm"
   ]
  },
  {
   "cell_type": "markdown",
   "id": "6c2d3f2c-5732-43a1-a5a3-9aa4d9df88fd",
   "metadata": {},
   "source": [
    "We are showing the versions of the packages, but you should be fine if you used the provided `yaml` file to create your `conda`/`mamba` environment."
   ]
  },
  {
   "cell_type": "code",
   "execution_count": 2,
   "id": "ebf7d8b7-9402-4a34-875b-9249dc8ac61f",
   "metadata": {},
   "outputs": [
    {
     "name": "stdout",
     "output_type": "stream",
     "text": [
      "numpy version: 1.23.5\n",
      "xarray version: 2024.3.0\n",
      "matplotlib version: 3.6.2\n",
      "gsw version: 3.4.0\n"
     ]
    }
   ],
   "source": [
    "print(\"numpy version:\", np.__version__)\n",
    "print(\"xarray version:\", xr.__version__)\n",
    "print(\"matplotlib version:\", matplotlib.__version__)\n",
    "print(\"gsw version:\", gsw.__version__)"
   ]
  },
  {
   "cell_type": "markdown",
   "id": "e0882654-ef0a-4f9a-a530-c06b2fb09579",
   "metadata": {},
   "source": [
    "## Accessing and combining datasets"
   ]
  },
  {
   "cell_type": "markdown",
   "id": "b1a02f4b-98e9-42e4-8325-9d58b5c2ab48",
   "metadata": {},
   "source": [
    "We here define the bounds of the region of interest. In this case, is the Kuroshio current."
   ]
  },
  {
   "cell_type": "code",
   "execution_count": 4,
   "id": "71a4c145-0499-42aa-93e3-bf054fdcf375",
   "metadata": {},
   "outputs": [],
   "source": [
    "latmin, latmax = 28, 47\n",
    "lonmin, lonmax = 139, 158"
   ]
  },
  {
   "cell_type": "markdown",
   "id": "90126686-a2b7-4b17-8c1b-6c9147b2132f",
   "metadata": {},
   "source": [
    "Here we access the dataset and filter profiles within the region of interest. We selected the CTD casts only from 2000 to 2004. It should take a few minutes to load the data. If you need faster access or a larger spatiotemporal domain, you could use `dask` for parallelized access do the server. "
   ]
  },
  {
   "cell_type": "code",
   "execution_count": 5,
   "id": "a3c57030-2f93-4a89-bfd2-c1f1c9f6e74d",
   "metadata": {},
   "outputs": [
    {
     "name": "stdout",
     "output_type": "stream",
     "text": [
      "CPU times: user 1min 26s, sys: 13.5 s, total: 1min 40s\n",
      "Wall time: 6min 25s\n"
     ]
    }
   ],
   "source": [
    "%%time\n",
    "base_url = \"http://www.smast.umassd.edu:8081/thredds/dodsC/Vortex_profiles/vortex_profiles/Matched\"\n",
    "geturl = lambda dataset,variable: f\"{base_url}/matched_{dataset.lower()}_{variable.title()}.nc\"\n",
    "\n",
    "dataset = \"ctd\"\n",
    "temp = xr.open_dataset(geturl(dataset,\"temperature\"))\n",
    "salt = xr.open_dataset(geturl(dataset,\"salinity\"))\n",
    "\n",
    "where = lambda ds: (ds.lat>latmin)&(ds.lat<latmax)&(ds.lon>lonmin)&(ds.lon<lonmax)&(ds.time.dt.year>=2000)&(ds.time.dt.year<2005)\n",
    "temp = temp.isel(casts=np.argwhere(where(temp).values).ravel()).load()\n",
    "salt = salt.isel(casts=np.argwhere(where(salt).values).ravel()).load()"
   ]
  },
  {
   "cell_type": "markdown",
   "id": "ea43cff9-9410-49a5-9840-6ebef4aa001a",
   "metadata": {},
   "source": [
    "We now combine the temperature and salinity profiles based on common cast ids."
   ]
  },
  {
   "cell_type": "code",
   "execution_count": 6,
   "id": "85dc57d4-6fe4-4cc2-9b66-b3b1241da9c0",
   "metadata": {},
   "outputs": [],
   "source": [
    "ind = list(set(temp.casts.values).intersection(set(salt.casts.values)))\n",
    "ds = xr.merge([temp.sel(casts=ind), salt.sel(casts=ind)])"
   ]
  },
  {
   "cell_type": "markdown",
   "id": "f324dcb8-c407-4364-bfc8-caa4e584215c",
   "metadata": {},
   "source": [
    "Then estimate the absolute salinity and conservative temperature by utilizing the TEOS-10 Python package (`gsw`) and add them as new variables to the dataset."
   ]
  },
  {
   "cell_type": "code",
   "execution_count": 7,
   "id": "6d1db731-a76f-4727-80b5-4704e6ade67a",
   "metadata": {},
   "outputs": [],
   "source": [
    "p = ds.z\n",
    "ds[\"absolute_salinity\"] = gsw.SA_from_SP(ds.salinity, p, ds.lon, ds.lat)\n",
    "ds[\"conservative_temperature\"] = gsw.CT_from_t(ds.absolute_salinity, ds.temperature, p)"
   ]
  },
  {
   "cell_type": "markdown",
   "id": "40cef5fa-f7f6-4b18-abcb-c8d3534437e4",
   "metadata": {},
   "source": [
    "To compute anomalies, we need to load data from the World Ocean Atlas and estimate TEOS-10 variables from it."
   ]
  },
  {
   "cell_type": "code",
   "execution_count": 8,
   "id": "460095cd-5d67-45be-8ba7-c37a659ab404",
   "metadata": {},
   "outputs": [
    {
     "name": "stderr",
     "output_type": "stream",
     "text": [
      "100%|██████████| 2/2 [00:36<00:00, 18.31s/it]\n"
     ]
    }
   ],
   "source": [
    "base_url = \"https://www.ncei.noaa.gov/thredds-ocean/dodsC/ncei/woa\"\n",
    "params = [\"temperature\", \"salinity\"]\n",
    "\n",
    "datasets = []\n",
    "months = np.arange(1, 13)\n",
    "\n",
    "for param in tqdm(params):\n",
    "    urls = [f\"{base_url}/{param}/decav/1.00/woa18_decav_{param[0]}{m:02.0f}_01.nc\" for m in months]\n",
    "    woa = xr.open_mfdataset(urls, decode_times=False, parallel=True)\n",
    "\n",
    "    woa = woa.rename(time=\"month\").assign_coords(month=months)  \n",
    "    datasets.append(woa)\n",
    "\n",
    "woa = xr.merge(datasets)#.load()\n",
    "woa = woa.rename(depth=\"z\")\n",
    "woa = woa.sel(lon=slice(lonmin,lonmax), lat=slice(latmin,latmax))[[\"s_an\", \"t_an\"]].load()\n",
    "\n",
    "\n",
    "p = gsw.p_from_z(-woa.z, lat=woa.lat)\n",
    "woa[\"clim_absolute_salinity\"] = gsw.SA_from_SP(woa.s_an, woa.z, woa.lon, woa.lat)\n",
    "woa[\"clim_conservative_temperature\"] = gsw.CT_from_t(woa.clim_absolute_salinity, woa.t_an, p)"
   ]
  },
  {
   "cell_type": "markdown",
   "id": "8007d8fc-cbae-4eea-9b45-c718dd49dd21",
   "metadata": {},
   "source": [
    "Then we can estimate the salinity and temperature anomalies within eddies by computing the difference to the climatology interpolated to the location and month of the profiles."
   ]
  },
  {
   "cell_type": "code",
   "execution_count": 9,
   "id": "0e492a28-7936-40c8-ba62-4444612fe0ad",
   "metadata": {},
   "outputs": [],
   "source": [
    "clim = woa.interp(lon=ds.lon, lat=ds.lat, month=ds.time.dt.month, z=ds.z)\n",
    "ds[\"anom_absolute_salinity\"] = ds.absolute_salinity-clim.clim_absolute_salinity\n",
    "ds[\"anom_conservative_temperature\"] = ds.conservative_temperature-clim.clim_conservative_temperature"
   ]
  },
  {
   "cell_type": "markdown",
   "id": "33d8ae98-e922-4c3a-bf86-a9e7ed99b6ec",
   "metadata": {},
   "source": [
    "Once we estimate the anomalies, we coul make a plot for all profiles."
   ]
  },
  {
   "cell_type": "code",
   "execution_count": null,
   "id": "c704c196-9654-4913-90e7-f3abe850c1c3",
   "metadata": {},
   "outputs": [],
   "source": [
    "%%time\n",
    "variables = {\n",
    "    \"anom_conservative_temperature\": {\n",
    "        \"label\": \"Temperature anomaly [$^\\circ$C]\",\n",
    "        \"xlim\": [-12, 12],\n",
    "    },\n",
    "    \"anom_absolute_salinity\": {\n",
    "        \"label\": \"Salinity anom. [g/kg]\",\n",
    "        \"xlim\": [-1.3, 1.3],\n",
    "    },\n",
    "}\n",
    "\n",
    "fig, ax = plt.subplots(1,2, figsize=(10,4))\n",
    "\n",
    "for a, var in zip(ax, variables):\n",
    "    a.scatter(ds[var][ds.eddy_Ro>0].T, ds.z[ds.eddy_Ro>0].T, s=0.4, c=\"blue\", alpha=0.02);\n",
    "    a.scatter(ds[var][ds.eddy_Ro<0].T, ds.z[ds.eddy_Ro<0].T, s=0.4, c=\"red\", alpha=0.02);\n",
    "    \n",
    "    a.grid(True, linestyle=\"--\", alpha=0.5)\n",
    "    a.set(ylim=[1000,0], xlabel=variables[var][\"label\"], xlim=variables[var][\"xlim\"], ylabel=\"z [m]\")\n",
    "    a.axvline(0, linestyle=\"--\", color=\"0.2\", zorder=1e3)\n",
    "\n",
    "# Create custom legend handles\n",
    "custom_legend = [\n",
    "    Line2D([0], [0], color=\"blue\", lw=1, label=\"cyclones\", alpha=0.5),\n",
    "    Line2D([0], [0], color=\"red\", lw=1, label=\"anticyclones\", alpha=0.5),\n",
    "]\n",
    "\n",
    "# Add the legend to the first axis\n",
    "ax[0].legend(handles=custom_legend, loc=\"lower left\")\n",
    "\n",
    "fig.savefig(\"../img/anomalies.png\", bbox_inches=\"tight\", facecolor=\"w\", dpi=300)"
   ]
  },
  {
   "cell_type": "markdown",
   "id": "fd7addcc-0d84-4cf5-bfe0-1d45a0867274",
   "metadata": {},
   "source": [
    "The figure illustrates the vertical profiles of temperature and salinity anomalies for cyclonic (blue) and anticyclonic (red) eddies, extending to 1000 meters. \n",
    "\n",
    "Cyclones, characterized by low-pressure systems, typically exhibit negative temperature anomalies near the surface due to the upward displacement of isopycnals (cold cores). These anomalies diminish with increasing depth as the mixing effect of cyclones weakens.\n",
    "\n",
    "On the other hand, anticyclones, associated with high-pressure systems, show positive temperature anomalies near the surface caused by the downward displacement of isopycnal (warm cores). Similar to cyclones, these anomalies gradually weaken with depth. Notably, beyond 600-800 meters, the influence of both cyclones and anticyclones on the water column diminishes, and the anomalies converge around zero.\n",
    "\n",
    "The salinity anomalies are more complex since they depend on the distribution of water masses in the region.\n",
    "\n",
    "This plot effectively captures the contrasting thermal structures of cyclones and anticyclones, highlighting their impact on ocean stratification, heat transport, and mixing processes. Additionally, the visualization serves as a validation of the dataset by demonstrating consistency with theoretical expectations of mesoscale eddy behavior..\r\n"
   ]
  }
 ],
 "metadata": {
  "kernelspec": {
   "display_name": "coringa",
   "language": "python",
   "name": "coringa"
  },
  "language_info": {
   "codemirror_mode": {
    "name": "ipython",
    "version": 3
   },
   "file_extension": ".py",
   "mimetype": "text/x-python",
   "name": "python",
   "nbconvert_exporter": "python",
   "pygments_lexer": "ipython3",
   "version": "3.9.15"
  }
 },
 "nbformat": 4,
 "nbformat_minor": 5
}
